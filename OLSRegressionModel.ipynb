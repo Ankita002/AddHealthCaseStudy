{
 "cells": [
  {
   "cell_type": "markdown",
   "metadata": {},
   "source": [
    "# OLS Regression Model for association between H2GI1Y variable and age variable"
   ]
  },
  {
   "cell_type": "code",
   "execution_count": 2,
   "metadata": {},
   "outputs": [],
   "source": [
    "import pandas as pd\n",
    "import numpy as np\n",
    "import seaborn as sbn\n",
    "import scipy\n",
    "import matplotlib.pyplot as plt\n",
    "import statsmodels.api as sm\n",
    "import statsmodels.formula.api as smf"
   ]
  },
  {
   "cell_type": "code",
   "execution_count": 3,
   "metadata": {},
   "outputs": [],
   "source": [
    "data=pd.read_csv(\"addhealth_pds.csv\",low_memory=False)"
   ]
  },
  {
   "cell_type": "code",
   "execution_count": 4,
   "metadata": {},
   "outputs": [],
   "source": [
    "data['age'] = pd.to_numeric(data['age'],errors='coerce')\n",
    "data['H2GI1Y'] = pd.to_numeric(data['H2GI1Y'],errors='coerce')"
   ]
  },
  {
   "cell_type": "code",
   "execution_count": 5,
   "metadata": {},
   "outputs": [],
   "source": [
    "data['age']=data['age'].replace(' ',np.nan)\n",
    "data['H2GI1Y']=data['H2GI1Y'].replace(' ',np.nan)"
   ]
  },
  {
   "cell_type": "markdown",
   "metadata": {},
   "source": [
    "Regression Model for association between H2GI1Y variable and age variable"
   ]
  },
  {
   "cell_type": "code",
   "execution_count": 19,
   "metadata": {},
   "outputs": [],
   "source": [
    "data['H2GI1Y']=data['H2GI1Y']-data['H2GI1Y'].mean()"
   ]
  },
  {
   "cell_type": "code",
   "execution_count": 21,
   "metadata": {},
   "outputs": [
    {
     "name": "stdout",
     "output_type": "stream",
     "text": [
      "OLS Regression Model for association between H2GI1Y variable and age variable:\n",
      "                            OLS Regression Results                            \n",
      "==============================================================================\n",
      "Dep. Variable:                    age   R-squared:                       0.966\n",
      "Model:                            OLS   Adj. R-squared:                  0.966\n",
      "Method:                 Least Squares   F-statistic:                 1.386e+05\n",
      "Date:                Sun, 13 Jun 2021   Prob (F-statistic):               0.00\n",
      "Time:                        17:37:34   Log-Likelihood:                -882.08\n",
      "No. Observations:                4837   AIC:                             1768.\n",
      "Df Residuals:                    4835   BIC:                             1781.\n",
      "Df Model:                           1                                         \n",
      "Covariance Type:            nonrobust                                         \n",
      "==============================================================================\n",
      "                 coef    std err          t      P>|t|      [0.025      0.975]\n",
      "------------------------------------------------------------------------------\n",
      "Intercept     16.5415      0.004   3961.077      0.000      16.533      16.550\n",
      "H2GI1Y        -0.9724      0.003   -372.352      0.000      -0.978      -0.967\n",
      "==============================================================================\n",
      "Omnibus:                      911.563   Durbin-Watson:                   2.012\n",
      "Prob(Omnibus):                  0.000   Jarque-Bera (JB):              190.550\n",
      "Skew:                           0.062   Prob(JB):                     4.19e-42\n",
      "Kurtosis:                       2.036   Cond. No.                         1.60\n",
      "==============================================================================\n",
      "\n",
      "Warnings:\n",
      "[1] Standard Errors assume that the covariance matrix of the errors is correctly specified.\n"
     ]
    }
   ],
   "source": [
    "print(\"OLS Regression Model for association between H2GI1Y variable and age variable:\")\n",
    "reg1=smf.ols('age~H2GI1Y',data=data).fit()\n",
    "print(reg1.summary())"
   ]
  },
  {
   "cell_type": "markdown",
   "metadata": {},
   "source": [
    "# OLS Regression Model for association between Depression variable and age variable"
   ]
  },
  {
   "cell_type": "code",
   "execution_count": 10,
   "metadata": {},
   "outputs": [],
   "source": [
    "data['H1FS6'] = pd.to_numeric(data['H1FS6'],errors='coerce')"
   ]
  },
  {
   "cell_type": "code",
   "execution_count": 11,
   "metadata": {},
   "outputs": [],
   "source": [
    "data2=data.copy()\n",
    " \n",
    "data['H1FS6']=data['H1FS6'].replace(6,np.nan)\n",
    "data['H1FS6']=data['H1FS6'].replace(8,np.nan)"
   ]
  },
  {
   "cell_type": "code",
   "execution_count": 16,
   "metadata": {},
   "outputs": [],
   "source": [
    "data2['H1FS6FREQ']=data['H1FS6'].astype('category')\n",
    "def H1FS6FREQE(row):\n",
    "    if row['H1FS6FREQ']==2 or row['H1FS6FREQ']==3:\n",
    "        return 1\n",
    "    else:\n",
    "        return 0\n",
    "data2['H1FS6FREQE']=data2.apply(lambda row:H1FS6FREQE(row),axis=1)"
   ]
  },
  {
   "cell_type": "code",
   "execution_count": 17,
   "metadata": {},
   "outputs": [
    {
     "name": "stdout",
     "output_type": "stream",
     "text": [
      "OLS Regression Model for association between depression variable and age variable:\n",
      "                            OLS Regression Results                            \n",
      "==============================================================================\n",
      "Dep. Variable:                    age   R-squared:                       0.004\n",
      "Model:                            OLS   Adj. R-squared:                  0.004\n",
      "Method:                 Least Squares   F-statistic:                     19.65\n",
      "Date:                Sun, 13 Jun 2021   Prob (F-statistic):           9.49e-06\n",
      "Time:                        17:08:54   Log-Likelihood:                -9071.8\n",
      "No. Observations:                4837   AIC:                         1.815e+04\n",
      "Df Residuals:                    4835   BIC:                         1.816e+04\n",
      "Df Model:                           1                                         \n",
      "Covariance Type:            nonrobust                                         \n",
      "==============================================================================\n",
      "                 coef    std err          t      P>|t|      [0.025      0.975]\n",
      "------------------------------------------------------------------------------\n",
      "Intercept     16.5092      0.024    692.217      0.000      16.462      16.556\n",
      "H1FS6FREQE     0.3451      0.078      4.433      0.000       0.192       0.498\n",
      "==============================================================================\n",
      "Omnibus:                      286.405   Durbin-Watson:                   1.136\n",
      "Prob(Omnibus):                  0.000   Jarque-Bera (JB):              112.747\n",
      "Skew:                           0.102   Prob(JB):                     3.29e-25\n",
      "Kurtosis:                       2.281   Cond. No.                         3.46\n",
      "==============================================================================\n",
      "\n",
      "Warnings:\n",
      "[1] Standard Errors assume that the covariance matrix of the errors is correctly specified.\n"
     ]
    }
   ],
   "source": [
    "print(\"OLS Regression Model for association between depression variable and age variable:\")\n",
    "reg2=smf.ols('age~H1FS6FREQE',data=data2).fit()\n",
    "print(reg2.summary())"
   ]
  },
  {
   "cell_type": "code",
   "execution_count": null,
   "metadata": {},
   "outputs": [],
   "source": []
  }
 ],
 "metadata": {
  "kernelspec": {
   "display_name": "Python 3",
   "language": "python",
   "name": "python3"
  },
  "language_info": {
   "codemirror_mode": {
    "name": "ipython",
    "version": 3
   },
   "file_extension": ".py",
   "mimetype": "text/x-python",
   "name": "python",
   "nbconvert_exporter": "python",
   "pygments_lexer": "ipython3",
   "version": "3.7.6"
  }
 },
 "nbformat": 4,
 "nbformat_minor": 4
}
