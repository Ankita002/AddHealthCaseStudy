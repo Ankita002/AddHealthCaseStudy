{
 "cells": [
  {
   "cell_type": "markdown",
   "metadata": {},
   "source": [
    "# ANOVA Test to study association between depression and age(To study whether depression is more evident in higher age)"
   ]
  },
  {
   "cell_type": "code",
   "execution_count": 33,
   "metadata": {},
   "outputs": [],
   "source": [
    "import numpy as np\n",
    "import pandas as pd\n",
    "import statsmodels.formula.api as smf\n",
    "import statsmodels.stats.multicomp as multi"
   ]
  },
  {
   "cell_type": "markdown",
   "metadata": {},
   "source": [
    "Reading Data"
   ]
  },
  {
   "cell_type": "code",
   "execution_count": 2,
   "metadata": {},
   "outputs": [],
   "source": [
    "data=pd.read_csv(\"addhealth_pds.csv\",low_memory=False)"
   ]
  },
  {
   "cell_type": "code",
   "execution_count": 7,
   "metadata": {},
   "outputs": [
    {
     "data": {
      "text/html": [
       "<div>\n",
       "<style scoped>\n",
       "    .dataframe tbody tr th:only-of-type {\n",
       "        vertical-align: middle;\n",
       "    }\n",
       "\n",
       "    .dataframe tbody tr th {\n",
       "        vertical-align: top;\n",
       "    }\n",
       "\n",
       "    .dataframe thead th {\n",
       "        text-align: right;\n",
       "    }\n",
       "</style>\n",
       "<table border=\"1\" class=\"dataframe\">\n",
       "  <thead>\n",
       "    <tr style=\"text-align: right;\">\n",
       "      <th></th>\n",
       "      <th>AID</th>\n",
       "      <th>IMONTH</th>\n",
       "      <th>IDAY</th>\n",
       "      <th>IYEAR</th>\n",
       "      <th>SCID</th>\n",
       "      <th>SSCID</th>\n",
       "      <th>COMMID</th>\n",
       "      <th>MACNO</th>\n",
       "      <th>INTID</th>\n",
       "      <th>SCH_YR</th>\n",
       "      <th>...</th>\n",
       "      <th>SMP08</th>\n",
       "      <th>CLUSTER1</th>\n",
       "      <th>CLUSTER2</th>\n",
       "      <th>IMONTH2</th>\n",
       "      <th>IYEAR2</th>\n",
       "      <th>H2GI1M</th>\n",
       "      <th>H2GI1Y</th>\n",
       "      <th>finbd</th>\n",
       "      <th>finID</th>\n",
       "      <th>age</th>\n",
       "    </tr>\n",
       "  </thead>\n",
       "  <tbody>\n",
       "    <tr>\n",
       "      <th>0</th>\n",
       "      <td>57100270</td>\n",
       "      <td>6</td>\n",
       "      <td>23</td>\n",
       "      <td>95</td>\n",
       "      <td>77</td>\n",
       "      <td>177</td>\n",
       "      <td>477</td>\n",
       "      <td>100186</td>\n",
       "      <td>901186</td>\n",
       "      <td>1</td>\n",
       "      <td>...</td>\n",
       "      <td>0</td>\n",
       "      <td>477</td>\n",
       "      <td>178</td>\n",
       "      <td></td>\n",
       "      <td></td>\n",
       "      <td></td>\n",
       "      <td></td>\n",
       "      <td></td>\n",
       "      <td></td>\n",
       "      <td></td>\n",
       "    </tr>\n",
       "    <tr>\n",
       "      <th>1</th>\n",
       "      <td>57101310</td>\n",
       "      <td>5</td>\n",
       "      <td>5</td>\n",
       "      <td>95</td>\n",
       "      <td>7</td>\n",
       "      <td>7</td>\n",
       "      <td>407</td>\n",
       "      <td>100084</td>\n",
       "      <td>921084</td>\n",
       "      <td>1</td>\n",
       "      <td>...</td>\n",
       "      <td>0</td>\n",
       "      <td>407</td>\n",
       "      <td>108</td>\n",
       "      <td>4</td>\n",
       "      <td>96</td>\n",
       "      <td>11</td>\n",
       "      <td>76</td>\n",
       "      <td>11/15/1976</td>\n",
       "      <td>4/15/1996</td>\n",
       "      <td>19.427397260274</td>\n",
       "    </tr>\n",
       "    <tr>\n",
       "      <th>2</th>\n",
       "      <td>57103171</td>\n",
       "      <td>6</td>\n",
       "      <td>27</td>\n",
       "      <td>95</td>\n",
       "      <td>14</td>\n",
       "      <td>114</td>\n",
       "      <td>414</td>\n",
       "      <td>100143</td>\n",
       "      <td>927143</td>\n",
       "      <td>0</td>\n",
       "      <td>...</td>\n",
       "      <td>0</td>\n",
       "      <td>414</td>\n",
       "      <td>115</td>\n",
       "      <td></td>\n",
       "      <td></td>\n",
       "      <td></td>\n",
       "      <td></td>\n",
       "      <td></td>\n",
       "      <td></td>\n",
       "      <td></td>\n",
       "    </tr>\n",
       "    <tr>\n",
       "      <th>3</th>\n",
       "      <td>57103869</td>\n",
       "      <td>7</td>\n",
       "      <td>14</td>\n",
       "      <td>95</td>\n",
       "      <td>66</td>\n",
       "      <td>166</td>\n",
       "      <td>466</td>\n",
       "      <td>100215</td>\n",
       "      <td>908215</td>\n",
       "      <td>0</td>\n",
       "      <td>...</td>\n",
       "      <td>0</td>\n",
       "      <td>466</td>\n",
       "      <td>167</td>\n",
       "      <td>6</td>\n",
       "      <td>96</td>\n",
       "      <td>1</td>\n",
       "      <td>76</td>\n",
       "      <td>1/15/1976</td>\n",
       "      <td>6/15/1996</td>\n",
       "      <td>20.4301369863014</td>\n",
       "    </tr>\n",
       "    <tr>\n",
       "      <th>4</th>\n",
       "      <td>57104553</td>\n",
       "      <td>7</td>\n",
       "      <td>14</td>\n",
       "      <td>95</td>\n",
       "      <td>41</td>\n",
       "      <td>141</td>\n",
       "      <td>441</td>\n",
       "      <td>100008</td>\n",
       "      <td>905008</td>\n",
       "      <td>1</td>\n",
       "      <td>...</td>\n",
       "      <td>0</td>\n",
       "      <td>441</td>\n",
       "      <td>142</td>\n",
       "      <td></td>\n",
       "      <td></td>\n",
       "      <td></td>\n",
       "      <td></td>\n",
       "      <td></td>\n",
       "      <td></td>\n",
       "      <td></td>\n",
       "    </tr>\n",
       "  </tbody>\n",
       "</table>\n",
       "<p>5 rows × 2829 columns</p>\n",
       "</div>"
      ],
      "text/plain": [
       "        AID  IMONTH  IDAY  IYEAR  SCID  SSCID  COMMID   MACNO   INTID  SCH_YR  \\\n",
       "0  57100270       6    23     95    77    177     477  100186  901186       1   \n",
       "1  57101310       5     5     95     7      7     407  100084  921084       1   \n",
       "2  57103171       6    27     95    14    114     414  100143  927143       0   \n",
       "3  57103869       7    14     95    66    166     466  100215  908215       0   \n",
       "4  57104553       7    14     95    41    141     441  100008  905008       1   \n",
       "\n",
       "   ...  SMP08 CLUSTER1 CLUSTER2 IMONTH2 IYEAR2 H2GI1M H2GI1Y       finbd  \\\n",
       "0  ...      0      477      178                                            \n",
       "1  ...      0      407      108       4     96     11     76  11/15/1976   \n",
       "2  ...      0      414      115                                            \n",
       "3  ...      0      466      167       6     96      1     76   1/15/1976   \n",
       "4  ...      0      441      142                                            \n",
       "\n",
       "       finID               age  \n",
       "0                               \n",
       "1  4/15/1996   19.427397260274  \n",
       "2                               \n",
       "3  6/15/1996  20.4301369863014  \n",
       "4                               \n",
       "\n",
       "[5 rows x 2829 columns]"
      ]
     },
     "execution_count": 7,
     "metadata": {},
     "output_type": "execute_result"
    }
   ],
   "source": [
    "data.head()"
   ]
  },
  {
   "cell_type": "markdown",
   "metadata": {},
   "source": [
    "Converting age and H1FS6 to Numeric"
   ]
  },
  {
   "cell_type": "code",
   "execution_count": 16,
   "metadata": {},
   "outputs": [],
   "source": [
    "data['age'] = pd.to_numeric(data['age'],errors='coerce')"
   ]
  },
  {
   "cell_type": "code",
   "execution_count": 19,
   "metadata": {},
   "outputs": [],
   "source": [
    "data['H1FS6'] = pd.to_numeric(data['H1FS6'],errors='coerce')"
   ]
  },
  {
   "cell_type": "markdown",
   "metadata": {},
   "source": [
    "Replacing unknown/refused values of H1FS6 to NAN"
   ]
  },
  {
   "cell_type": "code",
   "execution_count": 28,
   "metadata": {},
   "outputs": [],
   "source": [
    "data['H1FS6']=data['H1FS6'].replace(6,np.nan)\n",
    "data['H1FS6']=data['H1FS6'].replace(8,np.nan)"
   ]
  },
  {
   "cell_type": "markdown",
   "metadata": {},
   "source": [
    "Creating new dataset"
   ]
  },
  {
   "cell_type": "code",
   "execution_count": 29,
   "metadata": {},
   "outputs": [],
   "source": [
    "data2=data[['age','H1FS6']].dropna()\n",
    " "
   ]
  },
  {
   "cell_type": "markdown",
   "metadata": {},
   "source": [
    "Observing mean & standard deviation of age for H1FS6(Variable for Question asking for level of depression)"
   ]
  },
  {
   "cell_type": "code",
   "execution_count": 30,
   "metadata": {},
   "outputs": [
    {
     "name": "stdout",
     "output_type": "stream",
     "text": [
      "             age\n",
      "H1FS6           \n",
      "0.0    16.407126\n",
      "1.0    16.721988\n",
      "2.0    16.788556\n",
      "3.0    17.004745\n",
      "            age\n",
      "H1FS6          \n",
      "0.0    1.570447\n",
      "1.0    1.592013\n",
      "2.0    1.512590\n",
      "3.0    1.492216\n"
     ]
    }
   ],
   "source": [
    "a1=data2.groupby('H1FS6').mean()\n",
    "print(a1)\n",
    "a2=data2.groupby('H1FS6').std()\n",
    "print(a2)"
   ]
  },
  {
   "cell_type": "markdown",
   "metadata": {},
   "source": [
    "Running ANOVA test to understand the association between depression and age "
   ]
  },
  {
   "cell_type": "code",
   "execution_count": 31,
   "metadata": {},
   "outputs": [],
   "source": [
    "model=smf.ols(formula='age ~ C(H1FS6)',data=data2).fit()"
   ]
  },
  {
   "cell_type": "code",
   "execution_count": 32,
   "metadata": {
    "scrolled": true
   },
   "outputs": [
    {
     "name": "stdout",
     "output_type": "stream",
     "text": [
      "                            OLS Regression Results                            \n",
      "==============================================================================\n",
      "Dep. Variable:                    age   R-squared:                       0.012\n",
      "Model:                            OLS   Adj. R-squared:                  0.012\n",
      "Method:                 Least Squares   F-statistic:                     19.92\n",
      "Date:                Mon, 22 Jun 2020   Prob (F-statistic):           7.85e-13\n",
      "Time:                        02:16:35   Log-Likelihood:                -9021.0\n",
      "No. Observations:                4824   AIC:                         1.805e+04\n",
      "Df Residuals:                    4820   BIC:                         1.808e+04\n",
      "Df Model:                           3                                         \n",
      "Covariance Type:            nonrobust                                         \n",
      "===================================================================================\n",
      "                      coef    std err          t      P>|t|      [0.025      0.975]\n",
      "-----------------------------------------------------------------------------------\n",
      "Intercept          16.4071      0.029    573.287      0.000      16.351      16.463\n",
      "C(H1FS6)[T.1.0]     0.3149      0.051      6.133      0.000       0.214       0.416\n",
      "C(H1FS6)[T.2.0]     0.3814      0.093      4.107      0.000       0.199       0.564\n",
      "C(H1FS6)[T.3.0]     0.5976      0.137      4.371      0.000       0.330       0.866\n",
      "==============================================================================\n",
      "Omnibus:                      304.308   Durbin-Watson:                   1.136\n",
      "Prob(Omnibus):                  0.000   Jarque-Bera (JB):              115.490\n",
      "Skew:                           0.095   Prob(JB):                     8.35e-26\n",
      "Kurtosis:                       2.266   Cond. No.                         6.37\n",
      "==============================================================================\n",
      "\n",
      "Warnings:\n",
      "[1] Standard Errors assume that the covariance matrix of the errors is correctly specified.\n"
     ]
    }
   ],
   "source": [
    "print(model.summary())"
   ]
  },
  {
   "cell_type": "markdown",
   "metadata": {},
   "source": [
    "Running Post Hoc Comparison"
   ]
  },
  {
   "cell_type": "code",
   "execution_count": 34,
   "metadata": {},
   "outputs": [
    {
     "name": "stdout",
     "output_type": "stream",
     "text": [
      "Multiple Comparison of Means - Tukey HSD, FWER=0.05\n",
      "===================================================\n",
      "group1 group2 meandiff p-adj   lower  upper  reject\n",
      "---------------------------------------------------\n",
      "   0.0    1.0   0.3149  0.001  0.1829 0.4468   True\n",
      "   0.0    2.0   0.3814  0.001  0.1427 0.6201   True\n",
      "   0.0    3.0   0.5976  0.001  0.2462  0.949   True\n",
      "   1.0    2.0   0.0666    0.9 -0.1855 0.3187  False\n",
      "   1.0    3.0   0.2828 0.1825 -0.0779 0.6434  False\n",
      "   2.0    3.0   0.2162  0.528 -0.1957 0.6281  False\n",
      "---------------------------------------------------\n"
     ]
    }
   ],
   "source": [
    "mc1=multi.MultiComparison(data2['age'],data2['H1FS6'])\n",
    "res1=mc1.tukeyhsd()\n",
    "print(res1.summary())"
   ]
  },
  {
   "cell_type": "code",
   "execution_count": null,
   "metadata": {},
   "outputs": [],
   "source": []
  },
  {
   "cell_type": "code",
   "execution_count": null,
   "metadata": {},
   "outputs": [],
   "source": []
  },
  {
   "cell_type": "code",
   "execution_count": null,
   "metadata": {},
   "outputs": [],
   "source": []
  },
  {
   "cell_type": "code",
   "execution_count": null,
   "metadata": {},
   "outputs": [],
   "source": []
  },
  {
   "cell_type": "code",
   "execution_count": null,
   "metadata": {},
   "outputs": [],
   "source": []
  },
  {
   "cell_type": "code",
   "execution_count": null,
   "metadata": {},
   "outputs": [],
   "source": []
  },
  {
   "cell_type": "code",
   "execution_count": null,
   "metadata": {},
   "outputs": [],
   "source": []
  },
  {
   "cell_type": "code",
   "execution_count": null,
   "metadata": {},
   "outputs": [],
   "source": []
  },
  {
   "cell_type": "code",
   "execution_count": null,
   "metadata": {},
   "outputs": [],
   "source": []
  },
  {
   "cell_type": "code",
   "execution_count": null,
   "metadata": {},
   "outputs": [],
   "source": []
  },
  {
   "cell_type": "code",
   "execution_count": null,
   "metadata": {},
   "outputs": [],
   "source": []
  },
  {
   "cell_type": "code",
   "execution_count": null,
   "metadata": {},
   "outputs": [],
   "source": []
  }
 ],
 "metadata": {
  "kernelspec": {
   "display_name": "Python 3",
   "language": "python",
   "name": "python3"
  },
  "language_info": {
   "codemirror_mode": {
    "name": "ipython",
    "version": 3
   },
   "file_extension": ".py",
   "mimetype": "text/x-python",
   "name": "python",
   "nbconvert_exporter": "python",
   "pygments_lexer": "ipython3",
   "version": "3.7.6"
  }
 },
 "nbformat": 4,
 "nbformat_minor": 4
}
