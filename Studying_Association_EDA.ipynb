{
 "cells": [
  {
   "cell_type": "markdown",
   "metadata": {},
   "source": [
    "# Studying Association Between Social Acceptance and Self Esteem-Exploratory Data Analysis"
   ]
  },
  {
   "cell_type": "markdown",
   "metadata": {},
   "source": [
    "Importing Libraries"
   ]
  },
  {
   "cell_type": "code",
   "execution_count": 1,
   "metadata": {},
   "outputs": [],
   "source": [
    "import numpy as np\n",
    "import pandas as pd"
   ]
  },
  {
   "cell_type": "markdown",
   "metadata": {},
   "source": [
    "Reading CSV File into Dataframe"
   ]
  },
  {
   "cell_type": "code",
   "execution_count": 2,
   "metadata": {},
   "outputs": [],
   "source": [
    "data=pd.read_csv(\"addhealth_pds.csv\",low_memory=False)"
   ]
  },
  {
   "cell_type": "code",
   "execution_count": 17,
   "metadata": {},
   "outputs": [
    {
     "name": "stdout",
     "output_type": "stream",
     "text": [
      "6504\n",
      "2829\n"
     ]
    }
   ],
   "source": [
    "print(len(data))\n",
    "print(len(data.columns))"
   ]
  },
  {
   "cell_type": "markdown",
   "metadata": {},
   "source": [
    "Converting Variables into Numeric"
   ]
  },
  {
   "cell_type": "code",
   "execution_count": 15,
   "metadata": {},
   "outputs": [],
   "source": [
    "data['H1PF29'] = pd.to_numeric(data['H1PF29'])\n",
    "data['H1PF30']=pd.to_numeric(data['H1PF30'])\n",
    "data['H1PF31']=pd.to_numeric(data['H1PF31'])\n",
    "data['H1PF32']=pd.to_numeric(data['H1PF32'])\n",
    "data['H1PF33']=pd.to_numeric(data['H1PF33'])\n",
    "data['H1PF34']=pd.to_numeric(data['H1PF34'])\n",
    "data['H1PF35']=pd.to_numeric(data['H1PF35'])\n",
    "data['H1PF36']=pd.to_numeric(data['H1PF36'])\n",
    "data['H1ED20']=pd.to_numeric(data['H1ED20'])\n",
    "data['H1ED18']=pd.to_numeric(data['H1ED18'])\n",
    " "
   ]
  },
  {
   "cell_type": "markdown",
   "metadata": {},
   "source": [
    "Displaying Counts and Percentages for each variables for both first and second research questions."
   ]
  },
  {
   "cell_type": "code",
   "execution_count": 2,
   "metadata": {},
   "outputs": [
    {
     "ename": "NameError",
     "evalue": "name 'data' is not defined",
     "output_type": "error",
     "traceback": [
      "\u001b[0;31m---------------------------------------------------------------------------\u001b[0m",
      "\u001b[0;31mNameError\u001b[0m                                 Traceback (most recent call last)",
      "\u001b[0;32m<ipython-input-2-2e705d916d2a>\u001b[0m in \u001b[0;36m<module>\u001b[0;34m\u001b[0m\n\u001b[1;32m      3\u001b[0m \u001b[0;34m\u001b[0m\u001b[0m\n\u001b[1;32m      4\u001b[0m \u001b[0mprint\u001b[0m\u001b[0;34m(\u001b[0m\u001b[0;34m\"Counts for You are well coordinated.\"\u001b[0m\u001b[0;34m)\u001b[0m\u001b[0;34m\u001b[0m\u001b[0;34m\u001b[0m\u001b[0m\n\u001b[0;32m----> 5\u001b[0;31m \u001b[0mc1\u001b[0m\u001b[0;34m=\u001b[0m\u001b[0mdata\u001b[0m\u001b[0;34m[\u001b[0m\u001b[0;34m'H1PF29'\u001b[0m\u001b[0;34m]\u001b[0m\u001b[0;34m.\u001b[0m\u001b[0mvalue_counts\u001b[0m\u001b[0;34m(\u001b[0m\u001b[0msort\u001b[0m\u001b[0;34m=\u001b[0m\u001b[0;32mFalse\u001b[0m\u001b[0;34m)\u001b[0m\u001b[0;34m.\u001b[0m\u001b[0msort_index\u001b[0m\u001b[0;34m(\u001b[0m\u001b[0;34m)\u001b[0m\u001b[0;34m\u001b[0m\u001b[0;34m\u001b[0m\u001b[0m\n\u001b[0m\u001b[1;32m      6\u001b[0m \u001b[0mprint\u001b[0m\u001b[0;34m(\u001b[0m\u001b[0mc1\u001b[0m\u001b[0;34m)\u001b[0m\u001b[0;34m\u001b[0m\u001b[0;34m\u001b[0m\u001b[0m\n\u001b[1;32m      7\u001b[0m \u001b[0mprint\u001b[0m\u001b[0;34m(\u001b[0m\u001b[0;34m\"Percentages for You are well coordinated.\"\u001b[0m\u001b[0;34m)\u001b[0m\u001b[0;34m\u001b[0m\u001b[0;34m\u001b[0m\u001b[0m\n",
      "\u001b[0;31mNameError\u001b[0m: name 'data' is not defined"
     ]
    }
   ],
   "source": [
    "%%capture cap --no-stderr\n",
    "#Variables for first research question\n",
    "print(\"Counts and Percentages for variables for Analyzing the relationship/Associaton between Social Acceptance and Self Esteem.\")\n",
    "\n",
    "print(\"Counts for You are well coordinated.\")\n",
    "c1=data['H1PF29'].value_counts(sort=False).sort_index()\n",
    "print(c1)\n",
    "print(\"Percentages for You are well coordinated.\")\n",
    "p1=data['H1PF29'].value_counts(sort=False, normalize=True).sort_index()\n",
    "print(p1)\n",
    "\n",
    "print(\"Counts for You have a lot of good qualities.\")\n",
    "c2=data['H1PF30'].value_counts(sort=False).sort_index()\n",
    "print(c2)\n",
    "print(\"Percentages for You have a lot of good qualities.\")\n",
    "p2=data['H1PF30'].value_counts(sort=False, normalize=True).sort_index()\n",
    "print(p2)\n",
    "\n",
    "print(\"Counts for You are physically fit.\")\n",
    "c3=data['H1PF31'].value_counts(sort=False).sort_index()\n",
    "print(c3)\n",
    "print('Percentages for You are physically fit.')\n",
    "p3=data['H1PF31'].value_counts(sort=False, normalize=True).sort_index()\n",
    "print(p3)\n",
    "\n",
    "print(\"Counts for You have a lot to be proud of.\")\n",
    "c4=data['H1PF32'].value_counts(sort=False).sort_index()\n",
    "print(c4)\n",
    "print(\"Percentages for You have a lot to be proud of.\")\n",
    "p4=data['H1PF32'].value_counts(sort=False, normalize=True).sort_index()\n",
    "print(p4)\n",
    "\n",
    "print(\"Counts for You like yourself just the way you are.\")\n",
    "c5=data['H1PF33'].value_counts(sort=False).sort_index()\n",
    "print(c5)\n",
    "print(\"Percentages for You like yourself just the way you are.\")\n",
    "p5=data['H1PF33'].value_counts(sort=False, normalize=True).sort_index()\n",
    "print(p5)\n",
    "\n",
    "print(\"Counts for You feel like you are doing everything just about right.\")\n",
    "c6=data['H1PF34'].value_counts(sort=False).sort_index()\n",
    "print(c6)\n",
    "print(\"Percentages for You feel like you are doing everything just about right.\")\n",
    "p6=data['H1PF34'].value_counts(sort=False, normalize=True).sort_index()\n",
    "print(p6)\n",
    "\n",
    "print(\"Counts for You feel socially accepted.\")\n",
    "c7=data['H1PF35'].value_counts(sort=False).sort_index()\n",
    "print(c7)\n",
    "print(\"Percentages for You feel socially accepted.\")\n",
    "p7=data['H1PF35'].value_counts(sort=False, normalize=True).sort_index()\n",
    "print(p7)\n",
    "\n",
    "print(\"Counts for You feel loved and wanted.\")\n",
    "c8=data['H1PF36'].value_counts(sort=False).sort_index()\n",
    "print(c8)\n",
    "print(\"Percentages for You feel loved and wanted.\")\n",
    "p8=data['H1PF36'].value_counts(sort=False, normalize=True).sort_index()\n",
    "print(p8)\n",
    "      \n",
    "#Variables for second research question.\n",
    "print(\"Counts and Percentages for additional variables to study association between Adjustment in School and Self Esteem\")\n",
    "      \n",
    "print(\"Counts for Getting along with other students.\")\n",
    "c9=data['H1ED18'].value_counts(sort=False).sort_index()\n",
    "print(c9)\n",
    "print(\"Percentages for Getting along with other students.\")\n",
    "p9=data['H1ED18'].value_counts(sort=False, normalize=True).sort_index()\n",
    "print(p9)\n",
    "      \n",
    "print(\"Counts for You feel like you are part of your school.\")\n",
    "c10=data['H1ED20'].value_counts(sort=False).sort_index()\n",
    "print(c10)\n",
    "print(\"Percentages for You feel like you are part of your school.\")\n",
    "p10=data['H1ED20'].value_counts(sort=False, normalize=True).sort_index()\n",
    "print(p10)"
   ]
  },
  {
   "cell_type": "code",
   "execution_count": null,
   "metadata": {},
   "outputs": [],
   "source": []
  },
  {
   "cell_type": "code",
   "execution_count": null,
   "metadata": {},
   "outputs": [],
   "source": []
  },
  {
   "cell_type": "code",
   "execution_count": 30,
   "metadata": {},
   "outputs": [],
   "source": [
    "with open('output.txt', 'w') as f:\n",
    "    f.write(cap.stdout)"
   ]
  },
  {
   "cell_type": "code",
   "execution_count": null,
   "metadata": {},
   "outputs": [],
   "source": []
  },
  {
   "cell_type": "code",
   "execution_count": null,
   "metadata": {},
   "outputs": [],
   "source": []
  },
  {
   "cell_type": "code",
   "execution_count": null,
   "metadata": {},
   "outputs": [],
   "source": []
  }
 ],
 "metadata": {
  "kernelspec": {
   "display_name": "Python 3",
   "language": "python",
   "name": "python3"
  },
  "language_info": {
   "codemirror_mode": {
    "name": "ipython",
    "version": 3
   },
   "file_extension": ".py",
   "mimetype": "text/x-python",
   "name": "python",
   "nbconvert_exporter": "python",
   "pygments_lexer": "ipython3",
   "version": "3.7.6"
  }
 },
 "nbformat": 4,
 "nbformat_minor": 4
}
