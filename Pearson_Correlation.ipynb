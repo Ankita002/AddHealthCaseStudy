{
 "cells": [
  {
   "cell_type": "markdown",
   "metadata": {},
   "source": [
    "# Pearson Correlation to study association between H2GI1Y variable and age variable"
   ]
  },
  {
   "cell_type": "code",
   "execution_count": 1,
   "metadata": {},
   "outputs": [],
   "source": [
    "import pandas as pd\n",
    "import numpy as np\n",
    "import seaborn as sbn\n",
    "import scipy\n",
    "import matplotlib.pyplot as plt"
   ]
  },
  {
   "cell_type": "markdown",
   "metadata": {},
   "source": [
    "Reading Data"
   ]
  },
  {
   "cell_type": "code",
   "execution_count": 2,
   "metadata": {},
   "outputs": [],
   "source": [
    "data=pd.read_csv(\"addhealth_pds.csv\",low_memory=False)"
   ]
  },
  {
   "cell_type": "code",
   "execution_count": 3,
   "metadata": {},
   "outputs": [
    {
     "data": {
      "text/html": [
       "<div>\n",
       "<style scoped>\n",
       "    .dataframe tbody tr th:only-of-type {\n",
       "        vertical-align: middle;\n",
       "    }\n",
       "\n",
       "    .dataframe tbody tr th {\n",
       "        vertical-align: top;\n",
       "    }\n",
       "\n",
       "    .dataframe thead th {\n",
       "        text-align: right;\n",
       "    }\n",
       "</style>\n",
       "<table border=\"1\" class=\"dataframe\">\n",
       "  <thead>\n",
       "    <tr style=\"text-align: right;\">\n",
       "      <th></th>\n",
       "      <th>AID</th>\n",
       "      <th>IMONTH</th>\n",
       "      <th>IDAY</th>\n",
       "      <th>IYEAR</th>\n",
       "      <th>SCID</th>\n",
       "      <th>SSCID</th>\n",
       "      <th>COMMID</th>\n",
       "      <th>MACNO</th>\n",
       "      <th>INTID</th>\n",
       "      <th>SCH_YR</th>\n",
       "      <th>...</th>\n",
       "      <th>SMP08</th>\n",
       "      <th>CLUSTER1</th>\n",
       "      <th>CLUSTER2</th>\n",
       "      <th>IMONTH2</th>\n",
       "      <th>IYEAR2</th>\n",
       "      <th>H2GI1M</th>\n",
       "      <th>H2GI1Y</th>\n",
       "      <th>finbd</th>\n",
       "      <th>finID</th>\n",
       "      <th>age</th>\n",
       "    </tr>\n",
       "  </thead>\n",
       "  <tbody>\n",
       "    <tr>\n",
       "      <th>0</th>\n",
       "      <td>57100270</td>\n",
       "      <td>6</td>\n",
       "      <td>23</td>\n",
       "      <td>95</td>\n",
       "      <td>77</td>\n",
       "      <td>177</td>\n",
       "      <td>477</td>\n",
       "      <td>100186</td>\n",
       "      <td>901186</td>\n",
       "      <td>1</td>\n",
       "      <td>...</td>\n",
       "      <td>0</td>\n",
       "      <td>477</td>\n",
       "      <td>178</td>\n",
       "      <td></td>\n",
       "      <td></td>\n",
       "      <td></td>\n",
       "      <td></td>\n",
       "      <td></td>\n",
       "      <td></td>\n",
       "      <td></td>\n",
       "    </tr>\n",
       "    <tr>\n",
       "      <th>1</th>\n",
       "      <td>57101310</td>\n",
       "      <td>5</td>\n",
       "      <td>5</td>\n",
       "      <td>95</td>\n",
       "      <td>7</td>\n",
       "      <td>7</td>\n",
       "      <td>407</td>\n",
       "      <td>100084</td>\n",
       "      <td>921084</td>\n",
       "      <td>1</td>\n",
       "      <td>...</td>\n",
       "      <td>0</td>\n",
       "      <td>407</td>\n",
       "      <td>108</td>\n",
       "      <td>4</td>\n",
       "      <td>96</td>\n",
       "      <td>11</td>\n",
       "      <td>76</td>\n",
       "      <td>11/15/1976</td>\n",
       "      <td>4/15/1996</td>\n",
       "      <td>19.427397260274</td>\n",
       "    </tr>\n",
       "    <tr>\n",
       "      <th>2</th>\n",
       "      <td>57103171</td>\n",
       "      <td>6</td>\n",
       "      <td>27</td>\n",
       "      <td>95</td>\n",
       "      <td>14</td>\n",
       "      <td>114</td>\n",
       "      <td>414</td>\n",
       "      <td>100143</td>\n",
       "      <td>927143</td>\n",
       "      <td>0</td>\n",
       "      <td>...</td>\n",
       "      <td>0</td>\n",
       "      <td>414</td>\n",
       "      <td>115</td>\n",
       "      <td></td>\n",
       "      <td></td>\n",
       "      <td></td>\n",
       "      <td></td>\n",
       "      <td></td>\n",
       "      <td></td>\n",
       "      <td></td>\n",
       "    </tr>\n",
       "    <tr>\n",
       "      <th>3</th>\n",
       "      <td>57103869</td>\n",
       "      <td>7</td>\n",
       "      <td>14</td>\n",
       "      <td>95</td>\n",
       "      <td>66</td>\n",
       "      <td>166</td>\n",
       "      <td>466</td>\n",
       "      <td>100215</td>\n",
       "      <td>908215</td>\n",
       "      <td>0</td>\n",
       "      <td>...</td>\n",
       "      <td>0</td>\n",
       "      <td>466</td>\n",
       "      <td>167</td>\n",
       "      <td>6</td>\n",
       "      <td>96</td>\n",
       "      <td>1</td>\n",
       "      <td>76</td>\n",
       "      <td>1/15/1976</td>\n",
       "      <td>6/15/1996</td>\n",
       "      <td>20.4301369863014</td>\n",
       "    </tr>\n",
       "    <tr>\n",
       "      <th>4</th>\n",
       "      <td>57104553</td>\n",
       "      <td>7</td>\n",
       "      <td>14</td>\n",
       "      <td>95</td>\n",
       "      <td>41</td>\n",
       "      <td>141</td>\n",
       "      <td>441</td>\n",
       "      <td>100008</td>\n",
       "      <td>905008</td>\n",
       "      <td>1</td>\n",
       "      <td>...</td>\n",
       "      <td>0</td>\n",
       "      <td>441</td>\n",
       "      <td>142</td>\n",
       "      <td></td>\n",
       "      <td></td>\n",
       "      <td></td>\n",
       "      <td></td>\n",
       "      <td></td>\n",
       "      <td></td>\n",
       "      <td></td>\n",
       "    </tr>\n",
       "  </tbody>\n",
       "</table>\n",
       "<p>5 rows × 2829 columns</p>\n",
       "</div>"
      ],
      "text/plain": [
       "        AID  IMONTH  IDAY  IYEAR  SCID  SSCID  COMMID   MACNO   INTID  SCH_YR  \\\n",
       "0  57100270       6    23     95    77    177     477  100186  901186       1   \n",
       "1  57101310       5     5     95     7      7     407  100084  921084       1   \n",
       "2  57103171       6    27     95    14    114     414  100143  927143       0   \n",
       "3  57103869       7    14     95    66    166     466  100215  908215       0   \n",
       "4  57104553       7    14     95    41    141     441  100008  905008       1   \n",
       "\n",
       "   ...  SMP08 CLUSTER1 CLUSTER2 IMONTH2 IYEAR2 H2GI1M H2GI1Y       finbd  \\\n",
       "0  ...      0      477      178                                            \n",
       "1  ...      0      407      108       4     96     11     76  11/15/1976   \n",
       "2  ...      0      414      115                                            \n",
       "3  ...      0      466      167       6     96      1     76   1/15/1976   \n",
       "4  ...      0      441      142                                            \n",
       "\n",
       "       finID               age  \n",
       "0                               \n",
       "1  4/15/1996   19.427397260274  \n",
       "2                               \n",
       "3  6/15/1996  20.4301369863014  \n",
       "4                               \n",
       "\n",
       "[5 rows x 2829 columns]"
      ]
     },
     "execution_count": 3,
     "metadata": {},
     "output_type": "execute_result"
    }
   ],
   "source": [
    "data.head()"
   ]
  },
  {
   "cell_type": "code",
   "execution_count": null,
   "metadata": {},
   "outputs": [],
   "source": [
    "Converting age and H1GI1Y to Numeric"
   ]
  },
  {
   "cell_type": "code",
   "execution_count": 14,
   "metadata": {},
   "outputs": [],
   "source": [
    "data['age'] = pd.to_numeric(data['age'],errors='coerce')\n",
    "data['H2GI1Y'] = pd.to_numeric(data['H2GI1Y'],errors='coerce')"
   ]
  },
  {
   "cell_type": "code",
   "execution_count": 15,
   "metadata": {},
   "outputs": [],
   "source": [
    "data['age']=data['age'].replace(' ',np.nan)\n",
    "data['H2GI1Y']=data['H2GI1Y'].replace(' ',np.nan)"
   ]
  },
  {
   "cell_type": "markdown",
   "metadata": {},
   "source": [
    "Plotting scatterplot"
   ]
  },
  {
   "cell_type": "code",
   "execution_count": 21,
   "metadata": {},
   "outputs": [
    {
     "data": {
      "text/plain": [
       "Text(0.5, 1.0, 'Scatterplot for studying association between H2GI1Y and age ')"
      ]
     },
     "execution_count": 21,
     "metadata": {},
     "output_type": "execute_result"
    },
    {
     "data": {
      "image/png": "[encoded data removed]",
      "text/plain": [
       "<Figure size 432x288 with 1 Axes>"
      ]
     },
     "metadata": {
      "needs_background": "light"
     },
     "output_type": "display_data"
    }
   ],
   "source": [
    "scat=sbn.regplot(x='H2GI1Y',='age', fit_reg=True,data=data)\n",
    "plt.xlabel('H2GI1Y')\n",
    "plt.ylabel('Age')\n",
    "plt.title('Scatterplot for studying association between H2GI1Y and age ')"
   ]
  },
  {
   "cell_type": "markdown",
   "metadata": {},
   "source": [
    "Dropping NAN"
   ]
  },
  {
   "cell_type": "code",
   "execution_count": 16,
   "metadata": {},
   "outputs": [],
   "source": [
    "data_clean=data.dropna()"
   ]
  },
  {
   "cell_type": "markdown",
   "metadata": {},
   "source": [
    "Association between H2GI1Y and age using Pearsons Correlation"
   ]
  },
  {
   "cell_type": "code",
   "execution_count": 18,
   "metadata": {},
   "outputs": [
    {
     "name": "stdout",
     "output_type": "stream",
     "text": [
      "association between H2GI1Y and age\n",
      "(-0.9830066606181656, 0.0)\n"
     ]
    }
   ],
   "source": [
    "print('association between H2GI1Y and age')\n",
    "print(scipy.stats.pearsonr(data_clean['H2GI1Y'], data_clean['age']))"
   ]
  },
  {
   "cell_type": "code",
   "execution_count": null,
   "metadata": {},
   "outputs": [],
   "source": []
  },
  {
   "cell_type": "code",
   "execution_count": null,
   "metadata": {},
   "outputs": [],
   "source": []
  },
  {
   "cell_type": "code",
   "execution_count": null,
   "metadata": {},
   "outputs": [],
   "source": []
  },
  {
   "cell_type": "code",
   "execution_count": null,
   "metadata": {},
   "outputs": [],
   "source": []
  },
  {
   "cell_type": "code",
   "execution_count": null,
   "metadata": {},
   "outputs": [],
   "source": []
  },
  {
   "cell_type": "code",
   "execution_count": null,
   "metadata": {},
   "outputs": [],
   "source": []
  }
 ],
 "metadata": {
  "kernelspec": {
   "display_name": "Python 3",
   "language": "python",
   "name": "python3"
  },
  "language_info": {
   "codemirror_mode": {
    "name": "ipython",
    "version": 3
   },
   "file_extension": ".py",
   "mimetype": "text/x-python",
   "name": "python",
   "nbconvert_exporter": "python",
   "pygments_lexer": "ipython3",
   "version": "3.7.6"
  }
 },
 "nbformat": 4,
 "nbformat_minor": 4
}
